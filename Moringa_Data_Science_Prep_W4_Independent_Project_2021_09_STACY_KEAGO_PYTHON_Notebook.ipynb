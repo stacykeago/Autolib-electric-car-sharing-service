{
  "nbformat": 4,
  "nbformat_minor": 0,
  "metadata": {
    "colab": {
      "name": "Moringa_Data_Science_Prep_W4_Independent_Project_2021_09_STACY_KEAGO_PYTHON_Notebook",
      "provenance": [],
      "toc_visible": true,
      "authorship_tag": "ABX9TyM97XQiXUjvvnl2cbqUHjlu",
      "include_colab_link": true
    },
    "kernelspec": {
      "name": "python3",
      "display_name": "Python 3"
    },
    "language_info": {
      "name": "python"
    }
  },
  "cells": [
    {
      "cell_type": "markdown",
      "metadata": {
        "id": "view-in-github",
        "colab_type": "text"
      },
      "source": [
        "<a href=\"https://colab.research.google.com/github/stacykeago/MORINGA-WEEK-3-IP/blob/main/Moringa_Data_Science_Prep_W4_Independent_Project_2021_09_STACY_KEAGO_PYTHON_Notebook.ipynb\" target=\"_parent\"><img src=\"https://colab.research.google.com/assets/colab-badge.svg\" alt=\"Open In Colab\"/></a>"
      ]
    },
    {
      "cell_type": "markdown",
      "metadata": {
        "id": "ZTPHdxgXqcy1"
      },
      "source": [
        "# Import panda"
      ]
    },
    {
      "cell_type": "code",
      "metadata": {
        "id": "ZXmUmES1qhr3"
      },
      "source": [
        "# Importing our pandas library \n",
        "import pandas as pd"
      ],
      "execution_count": 1,
      "outputs": []
    },
    {
      "cell_type": "markdown",
      "metadata": {
        "id": "qvfl2n4ZqGHh"
      },
      "source": [
        "# Read the data"
      ]
    },
    {
      "cell_type": "code",
      "metadata": {
        "colab": {
          "base_uri": "https://localhost:8080/",
          "height": 445
        },
        "id": "fdY64GbVqMCL",
        "outputId": "87b8dd3b-ca2d-4d32-902c-dde5777dfa23"
      },
      "source": [
        "#Read the data and preview\n",
        "df = pd.read_csv('/content/Autolib_dataset (2).csv')\n",
        "df.head(5)"
      ],
      "execution_count": 10,
      "outputs": [
        {
          "output_type": "execute_result",
          "data": {
            "text/html": [
              "<div>\n",
              "<style scoped>\n",
              "    .dataframe tbody tr th:only-of-type {\n",
              "        vertical-align: middle;\n",
              "    }\n",
              "\n",
              "    .dataframe tbody tr th {\n",
              "        vertical-align: top;\n",
              "    }\n",
              "\n",
              "    .dataframe thead th {\n",
              "        text-align: right;\n",
              "    }\n",
              "</style>\n",
              "<table border=\"1\" class=\"dataframe\">\n",
              "  <thead>\n",
              "    <tr style=\"text-align: right;\">\n",
              "      <th></th>\n",
              "      <th>Address</th>\n",
              "      <th>Cars</th>\n",
              "      <th>Bluecar counter</th>\n",
              "      <th>Utilib counter</th>\n",
              "      <th>Utilib 1.4 counter</th>\n",
              "      <th>Charge Slots</th>\n",
              "      <th>Charging Status</th>\n",
              "      <th>City</th>\n",
              "      <th>Displayed comment</th>\n",
              "      <th>ID</th>\n",
              "      <th>Kind</th>\n",
              "      <th>Geo point</th>\n",
              "      <th>Postal code</th>\n",
              "      <th>Public name</th>\n",
              "      <th>Rental status</th>\n",
              "      <th>Scheduled at</th>\n",
              "      <th>Slots</th>\n",
              "      <th>Station type</th>\n",
              "      <th>Status</th>\n",
              "      <th>Subscription status</th>\n",
              "      <th>year</th>\n",
              "      <th>month</th>\n",
              "      <th>day</th>\n",
              "      <th>hour</th>\n",
              "      <th>minute</th>\n",
              "    </tr>\n",
              "  </thead>\n",
              "  <tbody>\n",
              "    <tr>\n",
              "      <th>0</th>\n",
              "      <td>2 Avenue de Suffren</td>\n",
              "      <td>0</td>\n",
              "      <td>0</td>\n",
              "      <td>0</td>\n",
              "      <td>0</td>\n",
              "      <td>0</td>\n",
              "      <td>nonexistent</td>\n",
              "      <td>Paris</td>\n",
              "      <td>NaN</td>\n",
              "      <td>paris-suffren-2</td>\n",
              "      <td>STATION</td>\n",
              "      <td>48.857, 2.2917</td>\n",
              "      <td>75015</td>\n",
              "      <td>Paris/Suffren/2</td>\n",
              "      <td>operational</td>\n",
              "      <td>NaN</td>\n",
              "      <td>2</td>\n",
              "      <td>station</td>\n",
              "      <td>ok</td>\n",
              "      <td>nonexistent</td>\n",
              "      <td>2018</td>\n",
              "      <td>4</td>\n",
              "      <td>8</td>\n",
              "      <td>11</td>\n",
              "      <td>43</td>\n",
              "    </tr>\n",
              "    <tr>\n",
              "      <th>1</th>\n",
              "      <td>145 Rue Raymond Losserand</td>\n",
              "      <td>6</td>\n",
              "      <td>6</td>\n",
              "      <td>0</td>\n",
              "      <td>0</td>\n",
              "      <td>0</td>\n",
              "      <td>operational</td>\n",
              "      <td>Paris</td>\n",
              "      <td>NaN</td>\n",
              "      <td>paris-raymondlosserand-145</td>\n",
              "      <td>STATION</td>\n",
              "      <td>48.83126, 2.313088</td>\n",
              "      <td>75014</td>\n",
              "      <td>Paris/Raymond Losserand/145</td>\n",
              "      <td>operational</td>\n",
              "      <td>NaN</td>\n",
              "      <td>0</td>\n",
              "      <td>station</td>\n",
              "      <td>ok</td>\n",
              "      <td>nonexistent</td>\n",
              "      <td>2018</td>\n",
              "      <td>4</td>\n",
              "      <td>6</td>\n",
              "      <td>7</td>\n",
              "      <td>24</td>\n",
              "    </tr>\n",
              "    <tr>\n",
              "      <th>2</th>\n",
              "      <td>2 Avenue John Fitzgerald Kennedy</td>\n",
              "      <td>3</td>\n",
              "      <td>3</td>\n",
              "      <td>0</td>\n",
              "      <td>2</td>\n",
              "      <td>0</td>\n",
              "      <td>operational</td>\n",
              "      <td>Le Bourget</td>\n",
              "      <td>NaN</td>\n",
              "      <td>lebourget-johnfitzgeraldkennedy-2</td>\n",
              "      <td>STATION</td>\n",
              "      <td>48.938103, 2.4286035</td>\n",
              "      <td>93350</td>\n",
              "      <td>Le Bourget/John Fitzgerald Kennedy/2</td>\n",
              "      <td>operational</td>\n",
              "      <td>NaN</td>\n",
              "      <td>1</td>\n",
              "      <td>station</td>\n",
              "      <td>ok</td>\n",
              "      <td>nonexistent</td>\n",
              "      <td>2018</td>\n",
              "      <td>4</td>\n",
              "      <td>3</td>\n",
              "      <td>20</td>\n",
              "      <td>14</td>\n",
              "    </tr>\n",
              "    <tr>\n",
              "      <th>3</th>\n",
              "      <td>51 Rue EugÃ¨ne OudinÃ©</td>\n",
              "      <td>3</td>\n",
              "      <td>3</td>\n",
              "      <td>1</td>\n",
              "      <td>0</td>\n",
              "      <td>1</td>\n",
              "      <td>operational</td>\n",
              "      <td>Paris</td>\n",
              "      <td>NaN</td>\n",
              "      <td>paris-eugeneoudine-51</td>\n",
              "      <td>STATION</td>\n",
              "      <td>48.8250327, 2.3725162</td>\n",
              "      <td>75013</td>\n",
              "      <td>Paris/EugÃ¨ne OudinÃ©/51</td>\n",
              "      <td>operational</td>\n",
              "      <td>NaN</td>\n",
              "      <td>2</td>\n",
              "      <td>station</td>\n",
              "      <td>ok</td>\n",
              "      <td>nonexistent</td>\n",
              "      <td>2018</td>\n",
              "      <td>4</td>\n",
              "      <td>4</td>\n",
              "      <td>4</td>\n",
              "      <td>37</td>\n",
              "    </tr>\n",
              "    <tr>\n",
              "      <th>4</th>\n",
              "      <td>6 avenue de la Porte de Champerret</td>\n",
              "      <td>3</td>\n",
              "      <td>3</td>\n",
              "      <td>0</td>\n",
              "      <td>0</td>\n",
              "      <td>0</td>\n",
              "      <td>nonexistent</td>\n",
              "      <td>Paris</td>\n",
              "      <td>NaN</td>\n",
              "      <td>paris-portedechamperret-6</td>\n",
              "      <td>PARKING</td>\n",
              "      <td>48.8862632, 2.2874511</td>\n",
              "      <td>75017</td>\n",
              "      <td>Paris/Porte de Champerret/6</td>\n",
              "      <td>operational</td>\n",
              "      <td>NaN</td>\n",
              "      <td>3</td>\n",
              "      <td>station</td>\n",
              "      <td>ok</td>\n",
              "      <td>nonexistent</td>\n",
              "      <td>2018</td>\n",
              "      <td>4</td>\n",
              "      <td>8</td>\n",
              "      <td>17</td>\n",
              "      <td>23</td>\n",
              "    </tr>\n",
              "  </tbody>\n",
              "</table>\n",
              "</div>"
            ],
            "text/plain": [
              "                              Address  Cars  Bluecar counter  ...  day  hour  minute\n",
              "0                 2 Avenue de Suffren     0                0  ...    8    11      43\n",
              "1           145 Rue Raymond Losserand     6                6  ...    6     7      24\n",
              "2    2 Avenue John Fitzgerald Kennedy     3                3  ...    3    20      14\n",
              "3              51 Rue EugÃ¨ne OudinÃ©     3                3  ...    4     4      37\n",
              "4  6 avenue de la Porte de Champerret     3                3  ...    8    17      23\n",
              "\n",
              "[5 rows x 25 columns]"
            ]
          },
          "metadata": {},
          "execution_count": 10
        }
      ]
    },
    {
      "cell_type": "markdown",
      "metadata": {
        "id": "E0-DTijJxiul"
      },
      "source": [
        "# Accessing dataset information"
      ]
    },
    {
      "cell_type": "code",
      "metadata": {
        "colab": {
          "base_uri": "https://localhost:8080/"
        },
        "id": "P0R5Z_njxmkY",
        "outputId": "6a5eed7d-6c44-4a39-88bc-dc35fa174c2c"
      },
      "source": [
        "print(df.columns)\n",
        "print(df.shape)\n",
        "print(df.isnull().sum())"
      ],
      "execution_count": 11,
      "outputs": [
        {
          "output_type": "stream",
          "name": "stdout",
          "text": [
            "Index(['Address', 'Cars', 'Bluecar counter', 'Utilib counter',\n",
            "       'Utilib 1.4 counter', 'Charge Slots', 'Charging Status', 'City',\n",
            "       'Displayed comment', 'ID', 'Kind', 'Geo point', 'Postal code',\n",
            "       'Public name', 'Rental status', 'Scheduled at', 'Slots', 'Station type',\n",
            "       'Status', 'Subscription status', 'year', 'month', 'day', 'hour',\n",
            "       'minute'],\n",
            "      dtype='object')\n",
            "(5000, 25)\n",
            "Address                   0\n",
            "Cars                      0\n",
            "Bluecar counter           0\n",
            "Utilib counter            0\n",
            "Utilib 1.4 counter        0\n",
            "Charge Slots              0\n",
            "Charging Status           0\n",
            "City                      0\n",
            "Displayed comment      4889\n",
            "ID                        0\n",
            "Kind                      0\n",
            "Geo point                 0\n",
            "Postal code               0\n",
            "Public name               0\n",
            "Rental status             0\n",
            "Scheduled at           4953\n",
            "Slots                     0\n",
            "Station type              0\n",
            "Status                    0\n",
            "Subscription status       0\n",
            "year                      0\n",
            "month                     0\n",
            "day                       0\n",
            "hour                      0\n",
            "minute                    0\n",
            "dtype: int64\n"
          ]
        }
      ]
    },
    {
      "cell_type": "markdown",
      "metadata": {
        "id": "FnmAWbD8sSMM"
      },
      "source": [
        "# count the number of non - missing values "
      ]
    },
    {
      "cell_type": "code",
      "metadata": {
        "colab": {
          "base_uri": "https://localhost:8080/"
        },
        "id": "3MNYAjXbseSW",
        "outputId": "6ee3735e-12cb-4e57-9670-a7202d826fe0"
      },
      "source": [
        "# count the number of non - missing values \n",
        "df.count()"
      ],
      "execution_count": 12,
      "outputs": [
        {
          "output_type": "execute_result",
          "data": {
            "text/plain": [
              "Address                5000\n",
              "Cars                   5000\n",
              "Bluecar counter        5000\n",
              "Utilib counter         5000\n",
              "Utilib 1.4 counter     5000\n",
              "Charge Slots           5000\n",
              "Charging Status        5000\n",
              "City                   5000\n",
              "Displayed comment       111\n",
              "ID                     5000\n",
              "Kind                   5000\n",
              "Geo point              5000\n",
              "Postal code            5000\n",
              "Public name            5000\n",
              "Rental status          5000\n",
              "Scheduled at             47\n",
              "Slots                  5000\n",
              "Station type           5000\n",
              "Status                 5000\n",
              "Subscription status    5000\n",
              "year                   5000\n",
              "month                  5000\n",
              "day                    5000\n",
              "hour                   5000\n",
              "minute                 5000\n",
              "dtype: int64"
            ]
          },
          "metadata": {},
          "execution_count": 12
        }
      ]
    },
    {
      "cell_type": "markdown",
      "metadata": {
        "id": "6koiCN3atP0q"
      },
      "source": [
        "# Count the number of missing values"
      ]
    },
    {
      "cell_type": "code",
      "metadata": {
        "colab": {
          "base_uri": "https://localhost:8080/"
        },
        "id": "ZUDfT3-Es_iS",
        "outputId": "18e169d2-19dc-4ba1-b2e0-53fc509bdbaf"
      },
      "source": [
        "#Get the number of missing rows by subtracting the rows from the non-missing rows\n",
        "\n",
        "num_rows = df.shape[0]\n",
        "num_missing = num_rows - df.count() \n",
        "num_missing"
      ],
      "execution_count": 13,
      "outputs": [
        {
          "output_type": "execute_result",
          "data": {
            "text/plain": [
              "Address                   0\n",
              "Cars                      0\n",
              "Bluecar counter           0\n",
              "Utilib counter            0\n",
              "Utilib 1.4 counter        0\n",
              "Charge Slots              0\n",
              "Charging Status           0\n",
              "City                      0\n",
              "Displayed comment      4889\n",
              "ID                        0\n",
              "Kind                      0\n",
              "Geo point                 0\n",
              "Postal code               0\n",
              "Public name               0\n",
              "Rental status             0\n",
              "Scheduled at           4953\n",
              "Slots                     0\n",
              "Station type              0\n",
              "Status                    0\n",
              "Subscription status       0\n",
              "year                      0\n",
              "month                     0\n",
              "day                       0\n",
              "hour                      0\n",
              "minute                    0\n",
              "dtype: int64"
            ]
          },
          "metadata": {},
          "execution_count": 13
        }
      ]
    },
    {
      "cell_type": "markdown",
      "metadata": {
        "id": "eOuJzfmQIQfK"
      },
      "source": [
        "# Drop missing values"
      ]
    },
    {
      "cell_type": "code",
      "metadata": {
        "colab": {
          "base_uri": "https://localhost:8080/",
          "height": 103
        },
        "id": "M1uHPEzgISJE",
        "outputId": "705e6169-2d62-4b69-8823-ec75d0222d9d"
      },
      "source": [
        "# Drop missing values\n",
        "df.dropna()"
      ],
      "execution_count": 47,
      "outputs": [
        {
          "output_type": "execute_result",
          "data": {
            "text/html": [
              "<div>\n",
              "<style scoped>\n",
              "    .dataframe tbody tr th:only-of-type {\n",
              "        vertical-align: middle;\n",
              "    }\n",
              "\n",
              "    .dataframe tbody tr th {\n",
              "        vertical-align: top;\n",
              "    }\n",
              "\n",
              "    .dataframe thead th {\n",
              "        text-align: right;\n",
              "    }\n",
              "</style>\n",
              "<table border=\"1\" class=\"dataframe\">\n",
              "  <thead>\n",
              "    <tr style=\"text-align: right;\">\n",
              "      <th></th>\n",
              "      <th>Address</th>\n",
              "      <th>Cars</th>\n",
              "      <th>Bluecar counter</th>\n",
              "      <th>Utilib counter</th>\n",
              "      <th>Utilib 1.4 counter</th>\n",
              "      <th>Charge Slots</th>\n",
              "      <th>Charging Status</th>\n",
              "      <th>City</th>\n",
              "      <th>Displayed comment</th>\n",
              "      <th>ID</th>\n",
              "      <th>Kind</th>\n",
              "      <th>Geo point</th>\n",
              "      <th>Postal code</th>\n",
              "      <th>Public name</th>\n",
              "      <th>Rental status</th>\n",
              "      <th>Scheduled at</th>\n",
              "      <th>Slots</th>\n",
              "      <th>Station type</th>\n",
              "      <th>Status</th>\n",
              "      <th>Subscription status</th>\n",
              "      <th>year</th>\n",
              "      <th>month</th>\n",
              "      <th>day</th>\n",
              "      <th>hour</th>\n",
              "      <th>minute</th>\n",
              "    </tr>\n",
              "  </thead>\n",
              "  <tbody>\n",
              "  </tbody>\n",
              "</table>\n",
              "</div>"
            ],
            "text/plain": [
              "Empty DataFrame\n",
              "Columns: [Address, Cars, Bluecar counter, Utilib counter, Utilib 1.4 counter, Charge Slots, Charging Status, City, Displayed comment, ID, Kind, Geo point, Postal code, Public name, Rental status, Scheduled at, Slots, Station type, Status, Subscription status, year, month, day, hour, minute]\n",
              "Index: []"
            ]
          },
          "metadata": {},
          "execution_count": 47
        }
      ]
    },
    {
      "cell_type": "markdown",
      "metadata": {
        "id": "39z_mzX1r2bd"
      },
      "source": [
        "# RESEARCH QUESTIONS"
      ]
    },
    {
      "cell_type": "markdown",
      "metadata": {
        "id": "UaSFU3edWUYR"
      },
      "source": [
        "# Main research question"
      ]
    },
    {
      "cell_type": "code",
      "metadata": {
        "id": "acrcD9iVr7R2",
        "colab": {
          "base_uri": "https://localhost:8080/"
        },
        "outputId": "2835091b-91d9-4594-8dca-7520de766592"
      },
      "source": [
        "#Research Question\n",
        "\n",
        "# Identify the most popular hour of the day for picking up a shared electric car \n",
        "#(Bluecar) in the city of Paris over the month of April 2018.\n",
        "\n",
        "new =df.filter(items=['Bluecar counter', 'city','month', 'hour'])\n",
        "print(new)\n",
        "\n"
      ],
      "execution_count": 58,
      "outputs": [
        {
          "output_type": "stream",
          "name": "stdout",
          "text": [
            "      Bluecar counter  month  hour\n",
            "0                   0      4    11\n",
            "1                   6      4     7\n",
            "2                   3      4    20\n",
            "3                   3      4     4\n",
            "4                   3      4    17\n",
            "...               ...    ...   ...\n",
            "4995                2      4    11\n",
            "4996                4      4    16\n",
            "4997                1      4     7\n",
            "4998                2      4    17\n",
            "4999                4      4    10\n",
            "\n",
            "[5000 rows x 3 columns]\n"
          ]
        }
      ]
    },
    {
      "cell_type": "code",
      "metadata": {
        "colab": {
          "base_uri": "https://localhost:8080/"
        },
        "id": "8oB67mXvWKNY",
        "outputId": "54fb1a3b-1654-4cf2-f17d-08a3f45d758a"
      },
      "source": [
        "mode_new = (new['hour']).mode()\n",
        "print(mode_new)"
      ],
      "execution_count": 60,
      "outputs": [
        {
          "output_type": "stream",
          "name": "stdout",
          "text": [
            "0    21\n",
            "dtype: int64\n"
          ]
        }
      ]
    },
    {
      "cell_type": "markdown",
      "metadata": {
        "id": "vZvp4PjMsefe"
      },
      "source": [
        "# 1 popular hour for returning cars"
      ]
    },
    {
      "cell_type": "code",
      "metadata": {
        "id": "FVGyeElTsGLc",
        "colab": {
          "base_uri": "https://localhost:8080/"
        },
        "outputId": "c62bb775-360e-4fca-b74f-fc41cca4bb7f"
      },
      "source": [
        "#What is the most popular hour for returning cars?\n",
        "# column name =hour\n",
        "\n",
        "mode_hour = (df['hour']).mode()\n",
        "#df.mode()\n",
        "print(mode_hour)"
      ],
      "execution_count": 34,
      "outputs": [
        {
          "output_type": "stream",
          "name": "stdout",
          "text": [
            "0    21\n",
            "dtype: int64\n"
          ]
        }
      ]
    },
    {
      "cell_type": "markdown",
      "metadata": {
        "id": "RSBex5cpsfkp"
      },
      "source": [
        "# 2 Popular station"
      ]
    },
    {
      "cell_type": "code",
      "metadata": {
        "id": "_3_RmZPqsJTH",
        "colab": {
          "base_uri": "https://localhost:8080/"
        },
        "outputId": "6c937c96-6338-46ae-91ac-3b077a55a9ff"
      },
      "source": [
        "#What station is the most popular?\n",
        "# a. Overall?\n",
        "popular_station = (df['Public name']).mode()\n",
        "print(popular_station)"
      ],
      "execution_count": 36,
      "outputs": [
        {
          "output_type": "stream",
          "name": "stdout",
          "text": [
            "0    Paris/Porte de Montrouge/8\n",
            "dtype: object\n"
          ]
        }
      ]
    },
    {
      "cell_type": "code",
      "metadata": {
        "id": "USaY_CI8sMxJ"
      },
      "source": [
        "# b. At the most popular picking hour?\n",
        "\n",
        "popular_station = (df['Public name']).mode()\n",
        "print(popular_station)\n"
      ],
      "execution_count": null,
      "outputs": []
    },
    {
      "cell_type": "markdown",
      "metadata": {
        "id": "anVpAo81s_Nl"
      },
      "source": [
        "# 4. most popular for picking up Blue cars"
      ]
    },
    {
      "cell_type": "code",
      "metadata": {
        "id": "fduwyxVysSAM",
        "colab": {
          "base_uri": "https://localhost:8080/"
        },
        "outputId": "f80a6325-ad90-40f7-8150-c7e2a7bc7c16"
      },
      "source": [
        "#What postal code is the most popular for picking up Blue cars?\n",
        "# 1. SELECT TWO COLUMNS:  'Bluecar counter' AND 'Postal code'\n",
        "# 2. GET MOST POPULAR POSTAL CODE\n",
        "\n",
        "bluecar_postalcode =df.filter(items=['Bluecar counter', 'Postal code'])\n",
        "print(bluecar_postalcode)\n"
      ],
      "execution_count": 49,
      "outputs": [
        {
          "output_type": "stream",
          "name": "stdout",
          "text": [
            "      Bluecar counter  Postal code\n",
            "0                   0        75015\n",
            "1                   6        75014\n",
            "2                   3        93350\n",
            "3                   3        75013\n",
            "4                   3        75017\n",
            "...               ...          ...\n",
            "4995                2        92700\n",
            "4996                4        75015\n",
            "4997                1        75007\n",
            "4998                2        94120\n",
            "4999                4        75018\n",
            "\n",
            "[5000 rows x 2 columns]\n"
          ]
        }
      ]
    },
    {
      "cell_type": "code",
      "metadata": {
        "colab": {
          "base_uri": "https://localhost:8080/"
        },
        "id": "X1TRatJEA1DI",
        "outputId": "85d637bb-f8d8-45f1-b326-271dbd509f0d"
      },
      "source": [
        "# 2. GET MOST POPULAR POSTAL CODE\n",
        "popular_bluecar_postalcode = (bluecar_postalcode['Postal code']).mode()\n",
        "print(popular_bluecar_postalcode)"
      ],
      "execution_count": 46,
      "outputs": [
        {
          "output_type": "stream",
          "name": "stdout",
          "text": [
            "0    75015\n",
            "dtype: int64\n"
          ]
        }
      ]
    }
  ]
}